{
 "cells": [
  {
   "cell_type": "code",
   "execution_count": 9,
   "id": "387ca791-9b21-4d80-9cbc-3c9c7d959622",
   "metadata": {},
   "outputs": [],
   "source": [
    "#class-blueprint of object\n",
    "class Atm:\n",
    "    def __init__(self):#constructor\n",
    "        self.__pin=\"\"\n",
    "        self.__balance=0\n",
    "        self.__menu()\n",
    "\n",
    "    def get_pin(self):                 #Encapsulation\n",
    "        return self.__pin\n",
    "\n",
    "\n",
    "    def set_pin(self,new_pin):        #Encapsulation\n",
    "        if type(new_pin)==str:\n",
    "            self.__pin=new_pin\n",
    "            print(\"Pin changed\")\n",
    "        else:\n",
    "            print(\"Not allowed\")\n",
    "\n",
    "    def __menu(self):\n",
    "        user_input=input(\"\"\"\n",
    "                          Hello,how would you like to proceed?\n",
    "                          1.Enter 1 to create pin.\n",
    "                          2.enter 2 to deposit\n",
    "                          3.enter 3 to withdraw\n",
    "                          4.enter 4 to check balance\n",
    "                          5.enter 5 to exit\n",
    "        \"\"\")\n",
    "        if(user_input==\"1\"):\n",
    "           self.create_pin()\n",
    "        elif(user_input==\"2\"):\n",
    "            self.deposit()\n",
    "        elif(user_input==\"3\"):\n",
    "            self.withdraw()\n",
    "        elif(user_input==\"4\"):\n",
    "            self.chk_balance()\n",
    "        else:\n",
    "            print(\"Bye\")\n",
    "            \n",
    "\n",
    "    def create_pin(self):\n",
    "        self.__pin=input(\"enter pin\")\n",
    "        print(\"pin set successfully\")\n",
    "\n",
    "\n",
    "    def deposit(self):\n",
    "        temp=input(\"Enter pin:\")\n",
    "        if temp==self.__pin:\n",
    "            amount=int(input(\"Enter amount:\"))\n",
    "            self.__balance=self.__balance+amount\n",
    "            print(\"Deposited successfully\")\n",
    "        else:\n",
    "            print(\"Invalid pin\")\n",
    "\n",
    "    def withdraw(self):\n",
    "        temp=input(\"Enter pin:\")\n",
    "        if(temp==self.__pin):\n",
    "            amount=int(input(\"Enter amount\"))\n",
    "            if(amount<self.__balance):\n",
    "                self.__balance=self.__balance-amount\n",
    "                print(\"Withdraw successfully\")\n",
    "            else:\n",
    "                print(\"Invalid pin\")\n",
    "\n",
    "    def chk_balance(self):\n",
    "        temp=input(\"Enter pin\")\n",
    "        if(temp==self.__pin):\n",
    "            print(self.__balance)\n",
    "        else:\n",
    "            print(\"Invalid pin\")                 "
   ]
  },
  {
   "cell_type": "code",
   "execution_count": 40,
   "id": "009f517f-b83c-4760-b379-e4d8927c91f8",
   "metadata": {},
   "outputs": [
    {
     "name": "stdin",
     "output_type": "stream",
     "text": [
      "\n",
      "                          Hello,how would you like to proceed?\n",
      "                          1.Enter 1 to create pin.\n",
      "                          2.enter 2 to deposit\n",
      "                          3.enter 3 to withdraw\n",
      "                          4.enter 4 to check balance\n",
      "                          5.enter 5 to exit\n",
      "         1\n",
      "enter pin 123\n"
     ]
    },
    {
     "name": "stdout",
     "output_type": "stream",
     "text": [
      "pin set successfully\n"
     ]
    }
   ],
   "source": [
    "obj=Atm() #obj1"
   ]
  },
  {
   "cell_type": "code",
   "execution_count": 41,
   "id": "a6ded43f-890e-4096-834b-4936d3f7a286",
   "metadata": {},
   "outputs": [
    {
     "name": "stdin",
     "output_type": "stream",
     "text": [
      "Enter pin: 123\n",
      "Enter amount: 450\n"
     ]
    },
    {
     "name": "stdout",
     "output_type": "stream",
     "text": [
      "Deposited successfully\n"
     ]
    }
   ],
   "source": [
    "obj.deposit()"
   ]
  },
  {
   "cell_type": "code",
   "execution_count": 42,
   "id": "e9b94892-5047-43c4-9ac6-7623d9c64c6e",
   "metadata": {},
   "outputs": [
    {
     "name": "stdin",
     "output_type": "stream",
     "text": [
      "Enter pin: 123\n",
      "Enter amount 50\n"
     ]
    },
    {
     "name": "stdout",
     "output_type": "stream",
     "text": [
      "Withdraw successfully\n"
     ]
    }
   ],
   "source": [
    "obj.withdraw()"
   ]
  },
  {
   "cell_type": "code",
   "execution_count": 43,
   "id": "2d96a80a-057a-4d72-886b-7464d8825598",
   "metadata": {},
   "outputs": [
    {
     "name": "stdin",
     "output_type": "stream",
     "text": [
      "Enter pin 123\n"
     ]
    },
    {
     "name": "stdout",
     "output_type": "stream",
     "text": [
      "400\n"
     ]
    }
   ],
   "source": [
    "obj.chk_balance()"
   ]
  },
  {
   "cell_type": "code",
   "execution_count": 44,
   "id": "63b770bb-9d36-40b7-9e77-90bb915e12d2",
   "metadata": {},
   "outputs": [
    {
     "name": "stdin",
     "output_type": "stream",
     "text": [
      "\n",
      "                          Hello,how would you like to proceed?\n",
      "                          1.Enter 1 to create pin.\n",
      "                          2.enter 2 to deposit\n",
      "                          3.enter 3 to withdraw\n",
      "                          4.enter 4 to check balance\n",
      "                          5.enter 5 to exit\n",
      "         1\n",
      "enter pin 111\n"
     ]
    },
    {
     "name": "stdout",
     "output_type": "stream",
     "text": [
      "pin set successfully\n"
     ]
    }
   ],
   "source": [
    "obj2=Atm()"
   ]
  },
  {
   "cell_type": "code",
   "execution_count": 46,
   "id": "c565cf30-063c-4a9b-a24e-b97a48fba65d",
   "metadata": {},
   "outputs": [
    {
     "name": "stdin",
     "output_type": "stream",
     "text": [
      "Enter pin: 111\n",
      "Enter amount: 800\n"
     ]
    },
    {
     "name": "stdout",
     "output_type": "stream",
     "text": [
      "Deposited successfully\n"
     ]
    }
   ],
   "source": [
    "obj2.deposit()"
   ]
  },
  {
   "cell_type": "code",
   "execution_count": 47,
   "id": "177d8d84-e261-4067-8191-d916d4ee3df8",
   "metadata": {},
   "outputs": [
    {
     "name": "stdin",
     "output_type": "stream",
     "text": [
      "Enter pin: 111\n",
      "Enter amount 700\n"
     ]
    },
    {
     "name": "stdout",
     "output_type": "stream",
     "text": [
      "Withdraw successfully\n"
     ]
    }
   ],
   "source": [
    "obj2.withdraw()"
   ]
  },
  {
   "cell_type": "code",
   "execution_count": 48,
   "id": "041e8ec3-9c19-4be1-a5c8-f0978e15d1a7",
   "metadata": {},
   "outputs": [
    {
     "name": "stdin",
     "output_type": "stream",
     "text": [
      "Enter pin 111\n"
     ]
    },
    {
     "name": "stdout",
     "output_type": "stream",
     "text": [
      "100\n"
     ]
    }
   ],
   "source": [
    "\n",
    "obj2.chk_balance()"
   ]
  },
  {
   "cell_type": "code",
   "execution_count": 10,
   "id": "9125a2b2-a6e6-490f-9ec4-717c2125429b",
   "metadata": {},
   "outputs": [
    {
     "name": "stdin",
     "output_type": "stream",
     "text": [
      "\n",
      "                          Hello,how would you like to proceed?\n",
      "                          1.Enter 1 to create pin.\n",
      "                          2.enter 2 to deposit\n",
      "                          3.enter 3 to withdraw\n",
      "                          4.enter 4 to check balance\n",
      "                          5.enter 5 to exit\n",
      "         1\n",
      "enter pin 1234\n"
     ]
    },
    {
     "name": "stdout",
     "output_type": "stream",
     "text": [
      "pin set successfully\n"
     ]
    }
   ],
   "source": [
    "#Encapsulation--wrap data together into a single unit\n",
    "# In python encapsulation can be implement using get and set method\n",
    "# Double underscore(__) with any data members and methods means they are private and known as private attributes(like private variable in java){Ex:__pin)\n",
    "obj3=Atm()"
   ]
  },
  {
   "cell_type": "code",
   "execution_count": 11,
   "id": "b4a3d74e-327b-457a-b32c-6d210c76fadc",
   "metadata": {},
   "outputs": [
    {
     "name": "stdout",
     "output_type": "stream",
     "text": [
      "Not allowed\n"
     ]
    }
   ],
   "source": [
    "obj3.set_pin(5.89)"
   ]
  },
  {
   "cell_type": "code",
   "execution_count": 12,
   "id": "92217ee9-2fb0-4fb1-8866-047c50fea3b6",
   "metadata": {},
   "outputs": [
    {
     "name": "stdout",
     "output_type": "stream",
     "text": [
      "Pin changed\n"
     ]
    }
   ],
   "source": [
    "obj3.set_pin(\"4321\")"
   ]
  },
  {
   "cell_type": "code",
   "execution_count": 13,
   "id": "342bf52a-7c1e-48df-91c3-22d9e9e1505f",
   "metadata": {},
   "outputs": [
    {
     "data": {
      "text/plain": [
       "'4321'"
      ]
     },
     "execution_count": 13,
     "metadata": {},
     "output_type": "execute_result"
    }
   ],
   "source": [
    "obj3.get_pin()"
   ]
  },
  {
   "cell_type": "code",
   "execution_count": 1,
   "id": "7b99ce5c-6e79-4941-83be-36e9b8538618",
   "metadata": {},
   "outputs": [
    {
     "name": "stdout",
     "output_type": "stream",
     "text": [
      "Inside phone constructor\n",
      "buying a smartphone\n"
     ]
    }
   ],
   "source": [
    "# Method overriding---P  loymorphism\n",
    "class Phone:\n",
    "    def __init__(self,price,brand,camera):\n",
    "        print(\"Inside phone constructor\")\n",
    "        self.price=price\n",
    "        self.brand=brand\n",
    "        self.camera=camera\n",
    "    def buy(self):\n",
    "        print(\"Buying a phone\")\n",
    "\n",
    "class SmartPhone(Phone):\n",
    "    def buy(self):\n",
    "        print(\"buying a smartphone\")\n",
    "\n",
    "s=SmartPhone(2000,\"Apple\",13)\n",
    "s.buy()\n",
    "\n",
    "    "
   ]
  },
  {
   "cell_type": "code",
   "execution_count": 6,
   "id": "02c91842-5f28-4b1b-9a46-b7a025fe58dd",
   "metadata": {},
   "outputs": [
    {
     "name": "stdout",
     "output_type": "stream",
     "text": [
      "Inside phone constructor\n",
      "Buying a smartphone\n",
      "Buying a phone\n"
     ]
    }
   ],
   "source": [
    "# super keyword---using super keyword we can only access parent constructors and methods and not the attributes.\n",
    "class Phone:\n",
    "    def __init__(self,price,brand,camera):\n",
    "        print(\"Inside phone constructor\")\n",
    "        self.__price=price\n",
    "        self.brand=brand\n",
    "        self.camera=camera\n",
    "    def buy(self):\n",
    "        print(\"Buying a phone\")\n",
    "\n",
    "class SmartPhone(Phone):\n",
    "    def buy(self):\n",
    "        print(\"Buying a smartphone\")\n",
    "        super().buy()\n",
    "\n",
    "s=SmartPhone(2000,\"Apple\",13)\n",
    "s.buy()\n"
   ]
  },
  {
   "cell_type": "code",
   "execution_count": 10,
   "id": "1398c8fb-fa30-4d0f-b425-f47a281633b0",
   "metadata": {},
   "outputs": [
    {
     "name": "stdout",
     "output_type": "stream",
     "text": [
      "100\n",
      "200\n"
     ]
    }
   ],
   "source": [
    "# Example of super\n",
    "class Parent:\n",
    "    def __init__(self,num):\n",
    "        self.__num=num\n",
    "    def get_num(self):\n",
    "        return self.__num\n",
    "\n",
    "class Child(Parent):\n",
    "    def __init__(self,num,val):\n",
    "        super().__init__(num)   #In contructor super()must be first statement in child constructor\n",
    "        self.__val=val\n",
    "    def get_val(self):\n",
    "        return self.__val\n",
    "\n",
    "son=Child(100,200)\n",
    "print(son.get_num())\n",
    "print(son.get_val())\n",
    "    "
   ]
  },
  {
   "cell_type": "code",
   "execution_count": 11,
   "id": "6ea3a52b-029f-47ae-96a0-1d94d8855480",
   "metadata": {},
   "outputs": [
    {
     "name": "stdout",
     "output_type": "stream",
     "text": [
      "Inside phone constructor\n",
      "buying a phone\n"
     ]
    }
   ],
   "source": [
    "#Single Inheritance\n",
    "class Phone:\n",
    "    def __init__(self,price,brand,camera):\n",
    "        print(\"Inside phone constructor\")\n",
    "        self.__price=price\n",
    "        self.brand=brand\n",
    "        self.camera=camera\n",
    "    def buy(self):\n",
    "        print(\"buying a phone\")\n",
    "    def return_phone(self):\n",
    "        print(\"Returning a phone\")\n",
    "\n",
    "class SmartPhone(Phone):\n",
    "    pass\n",
    "SmartPhone(100,\"Apple\",\"13px\").buy()"
   ]
  },
  {
   "cell_type": "code",
   "execution_count": 12,
   "id": "4c275269-af0e-4b8d-9f87-b0dd35b9b9b4",
   "metadata": {},
   "outputs": [
    {
     "name": "stdout",
     "output_type": "stream",
     "text": [
      "Inside phone constructor\n",
      "Inside phone constructor\n",
      "Buying a phone\n",
      "Product customer review\n",
      "Product customer review\n"
     ]
    }
   ],
   "source": [
    "# Multilevel Inheritance\n",
    "class Product:\n",
    "    def review(self):\n",
    "        print(\"Product customer review\")\n",
    "\n",
    "class Phone(Product):\n",
    "    def __init__(self,price,brand,camera):\n",
    "        print(\"Inside phone constructor\")\n",
    "        self.__price=price\n",
    "        self.brand=brand\n",
    "        self.camera=camera\n",
    "    def buy(self):\n",
    "        print(\"Buying a phone\")\n",
    "\n",
    "class SmartPhone(Phone):\n",
    "    pass\n",
    "\n",
    "s=SmartPhone(200,\"Apple\",12)\n",
    "p=Phone(1000,\"Samsung\",1)\n",
    "s.buy()\n",
    "s.review()\n",
    "p.review()\n",
    "    "
   ]
  },
  {
   "cell_type": "code",
   "execution_count": 13,
   "id": "8933316d-0497-41ed-be65-1e69a3f775f1",
   "metadata": {},
   "outputs": [
    {
     "name": "stdout",
     "output_type": "stream",
     "text": [
      "Inside phone constructor\n",
      "Buying a phone\n",
      "Inside phone constructor\n",
      "Returning a phone\n"
     ]
    }
   ],
   "source": [
    "# Hierarchial Inheritance\n",
    "class Phone:\n",
    "    def __init__(self,price,brand,camera):\n",
    "        print(\"Inside phone constructor\")\n",
    "        self.__price=price\n",
    "        self.brand=brand\n",
    "        self.camera=camera\n",
    "    def buy(self):\n",
    "        print(\"Buying a phone\")\n",
    "    def return_phone(self):\n",
    "        print(\"Returning a phone\")\n",
    "\n",
    "class SmartPhone(Phone):\n",
    "    pass\n",
    "\n",
    "class FeaturePhone(Phone):\n",
    "    pass\n",
    "\n",
    "SmartPhone(1000,\"Apple\",\"13px\").buy();\n",
    "FeaturePhone(2000,\"Appple\",\"14px\").return_phone()"
   ]
  },
  {
   "cell_type": "code",
   "execution_count": 15,
   "id": "8616848e-da46-47dc-a911-59bf69bc7763",
   "metadata": {},
   "outputs": [
    {
     "name": "stdout",
     "output_type": "stream",
     "text": [
      "inside phone constructor\n",
      "Buying a phone\n",
      "Customer review\n"
     ]
    }
   ],
   "source": [
    "# Multiple Inheritance \n",
    "class Phone:\n",
    "    def __init__(self,price,brand,camera):\n",
    "        print(\"inside phone constructor\")\n",
    "        self.__price=price\n",
    "        self.brand=brand\n",
    "        self.camera=camera\n",
    "    def buy(self):\n",
    "        print(\"Buying a phone\")\n",
    "\n",
    "class Product:\n",
    "    def review(self):\n",
    "        print(\"Customer review\")\n",
    "\n",
    "class SmartPhone(Phone,Product):\n",
    "    pass\n",
    "\n",
    "\n",
    "s=SmartPhone(20000,\"appple\",12)\n",
    "s.buy()\n",
    "s.review()\n"
   ]
  },
  {
   "cell_type": "code",
   "execution_count": 18,
   "id": "30004939-57e0-4897-b57d-40821655c694",
   "metadata": {},
   "outputs": [
    {
     "name": "stdout",
     "output_type": "stream",
     "text": [
      "inside phone constructor\n",
      "Product buy method\n"
     ]
    }
   ],
   "source": [
    "# Method Resolution Order(MRO)----in sublcass first super class is write first then execute first\n",
    "\n",
    "class Phone:\n",
    "    def __init__(self,price,brand,camera):\n",
    "        print(\"inside phone constructor\")\n",
    "        self.__price=price\n",
    "        self.brand=brand\n",
    "        self.camera=camera\n",
    "    def buy(self):\n",
    "        print(\"Phone Buy method\")\n",
    "\n",
    "class Product:\n",
    "    def buy(self):\n",
    "        print(\"Product buy method\")\n",
    "   \n",
    "class SmartPhone(Product,Phone):\n",
    "    pass\n",
    "\n",
    "\n",
    "s=SmartPhone(20000,\"appple\",12)\n",
    "s.buy()"
   ]
  },
  {
   "cell_type": "code",
   "execution_count": 22,
   "id": "cd59ed39-e1d8-4a7d-b84a-3ee9ba63e766",
   "metadata": {},
   "outputs": [
    {
     "name": "stdout",
     "output_type": "stream",
     "text": [
      "Circle 12.56\n",
      "Rectangle 14\n"
     ]
    }
   ],
   "source": [
    "# Method Overloading---not applicable in python but with the help of default arguments we can implement this concept\n",
    "class Geometry:\n",
    "    def area(self,a,b=0):\n",
    "         if b==0:\n",
    "              print(\"Circle\",3.14*a*a)\n",
    "         else:\n",
    "          print(\"Rectangle\",a*b)\n",
    "\n",
    "ob=Geometry()\n",
    "ob.area(2)\n",
    "ob.area(2,7)\n",
    "\n",
    "\n",
    "   "
   ]
  },
  {
   "cell_type": "code",
   "execution_count": null,
   "id": "bf113397-dc32-48a8-bbf7-bf2b47c640a7",
   "metadata": {},
   "outputs": [],
   "source": []
  }
 ],
 "metadata": {
  "kernelspec": {
   "display_name": "Python 3 (ipykernel)",
   "language": "python",
   "name": "python3"
  },
  "language_info": {
   "codemirror_mode": {
    "name": "ipython",
    "version": 3
   },
   "file_extension": ".py",
   "mimetype": "text/x-python",
   "name": "python",
   "nbconvert_exporter": "python",
   "pygments_lexer": "ipython3",
   "version": "3.11.5"
  }
 },
 "nbformat": 4,
 "nbformat_minor": 5
}
