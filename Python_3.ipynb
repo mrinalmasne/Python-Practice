{
 "cells": [
  {
   "cell_type": "code",
   "execution_count": 19,
   "id": "019166bc-7667-4e32-b3cb-fe00f03e9dc2",
   "metadata": {},
   "outputs": [
    {
     "name": "stdout",
     "output_type": "stream",
     "text": [
      "14\n",
      "196\n",
      "200\n",
      "27\n",
      "20.0\n"
     ]
    }
   ],
   "source": [
    "# lambda function-small anonymous function without a name\n",
    "# defined using \"lambda\" keyword\n",
    "# syntax ---lambda arguments:expression\n",
    "x=lambda a:a\n",
    "print(x(14))\n",
    "\n",
    "square=lambda x: x**2\n",
    "print(square(14))\n",
    "\n",
    "a=lambda x,y:x*y\n",
    "print(a(10,20))\n",
    "\n",
    "cube=lambda x:x**3\n",
    "print(cube(3))\n",
    "\n",
    "avg=lambda x,y,z:(x+y+z)/3\n",
    "print(avg(10,20,30))"
   ]
  },
  {
   "cell_type": "code",
   "execution_count": 39,
   "id": "6f0c38e7-61b9-47d3-936d-6f29ee8fd029",
   "metadata": {},
   "outputs": [
    {
     "name": "stdout",
     "output_type": "stream",
     "text": [
      "8\n",
      "(1, 8, 27, 64, 125)\n",
      "(4, 9, 16, 25, 36)\n"
     ]
    }
   ],
   "source": [
    "# map function\n",
    "#using simple function as an argument in map function\n",
    "def cube(x):\n",
    "    return x*x*x\n",
    "    \n",
    "print(cube(2))\n",
    "\n",
    "t1=(1,2,3,4,5)\n",
    "newtuple=tuple(map(cube,t1))\n",
    "print(newtuple)\n",
    "\n",
    "# using lambda function as an argument in map function\n",
    "t2=(2,3,4,5,6)\n",
    "newt=tuple(map(lambda x:x**2,t2))\n",
    "print(newt)"
   ]
  },
  {
   "cell_type": "code",
   "execution_count": 40,
   "id": "4c1226fe-88ec-4626-9298-5ac3960e37f9",
   "metadata": {},
   "outputs": [
    {
     "name": "stdout",
     "output_type": "stream",
     "text": [
      "(5, 6, 78)\n",
      "(27, 125, 343, 729)\n"
     ]
    }
   ],
   "source": [
    "#filter function\n",
    "#using simple function as an argument in filter function\n",
    "def filter_function(a):\n",
    "    return a>4\n",
    "t1=(1,2,3,4,5,6,78)\n",
    "newtuple=tuple(filter(filter_function,t1))\n",
    "print(newtuple)\n",
    "\n",
    "# using lambda function as an argument in filter function\n",
    "t2=(3,5,7,9)\n",
    "newt=tuple(map(lambda x:x**3,t2))\n",
    "print(newt)"
   ]
  },
  {
   "cell_type": "code",
   "execution_count": 47,
   "id": "816b6acc-5fc1-4a7b-8c0b-19c046c091d4",
   "metadata": {},
   "outputs": [
    {
     "name": "stdout",
     "output_type": "stream",
     "text": [
      "15\n",
      "15\n"
     ]
    }
   ],
   "source": [
    "# reduce function\n",
    "from functools import reduce\n",
    "n=(1,2,3,4,5)\n",
    "def mysum(x,y):\n",
    "    return x+y\n",
    "\n",
    "#using simple function as an argument\n",
    "sum=reduce(mysum,n)\n",
    "print(sum)\n",
    "\n",
    "#using lambda function as an argument\n",
    "sum1=reduce(lambda x,y:x+y,n)\n",
    "print(sum1)"
   ]
  },
  {
   "cell_type": "code",
   "execution_count": 48,
   "id": "7d2060b7-94c1-4eab-9e62-69f1eb49b66e",
   "metadata": {},
   "outputs": [
    {
     "name": "stdout",
     "output_type": "stream",
     "text": [
      "ICCS\n",
      "Pune\n"
     ]
    }
   ],
   "source": [
    "#Object Oriented Programming\n",
    "# class-blueprint or template for creating the object\n",
    "# object-instance of the class\n",
    "#How to create class?????????\n",
    "class College:\n",
    "    name=\"ICCS\"\n",
    "    city=\"Pune\"\n",
    "\n",
    "#How to create object????????\n",
    "obj= College()\n",
    "print(obj.name)\n",
    "print(obj.city)"
   ]
  },
  {
   "cell_type": "code",
   "execution_count": 49,
   "id": "aac644b1-3d0f-4767-8a90-b29b7a033f0b",
   "metadata": {},
   "outputs": [
    {
     "name": "stdout",
     "output_type": "stream",
     "text": [
      "My branch is Mca and my year of passing is 2024\n"
     ]
    }
   ],
   "source": [
    "# self paramter-reference to the current object\n",
    "# how to use self parameter\n",
    "class Education:\n",
    "    branch=\"Mca\"\n",
    "    yop=2024\n",
    "    def details(self):\n",
    "        print(\"My branch is\",self.branch,\"and my year of passing is\",self.yop)\n",
    "ob=Education()\n",
    "ob.details()"
   ]
  },
  {
   "cell_type": "code",
   "execution_count": 59,
   "id": "622d5b91-7fee-44ae-9f96-c1f63bf43ff5",
   "metadata": {},
   "outputs": [
    {
     "name": "stdout",
     "output_type": "stream",
     "text": [
      "Name: Ram Age: 11\n",
      "Name: Sham Age: 12\n"
     ]
    }
   ],
   "source": [
    "# Constructors-method in class used to initialize the object\n",
    "class Frnds:\n",
    "    def __init__(self):            # Default constructor\n",
    "        print(\"I am default constructor\")\n",
    "    def __init__(self,name,age):   # Parameterized Constructor\n",
    "        self.name=name\n",
    "        self.age=age\n",
    "    def info(self):\n",
    "        print(\"Name:\",self.name,\"Age:\",self.age)\n",
    "      \n",
    "a=Frnds(\"Ram\",11)\n",
    "b=Frnds(\"Sham\",12)\n",
    "a.info()\n",
    "b.info()"
   ]
  },
  {
   "cell_type": "code",
   "execution_count": 29,
   "id": "7059f262-144c-4a39-b4cf-1178440dc1a2",
   "metadata": {},
   "outputs": [
    {
     "name": "stdout",
     "output_type": "stream",
     "text": [
      "Duration: 2 Branch: Mca\n",
      "Duration: 2 Branch: Mca\n",
      "Name: Mrinal Age: 22\n"
     ]
    }
   ],
   "source": [
    "# Inheritance-when a class  derives from another class\n",
    "class Education:\n",
    "    duration=2\n",
    "    branch=\"Mca\"\n",
    "    \n",
    "    def details(self):\n",
    "        print(\"Duration:\",self.duration,\"Branch:\",self.branch)\n",
    "\n",
    "class Student(Education):\n",
    "    name=\"Mrinal\"\n",
    "    age=22\n",
    "    def stdInfo(self):\n",
    "        print(\"Name:\",self.name,\"Age:\",self.age)\n",
    "        \n",
    "ob1=Education()\n",
    "ob1.details()\n",
    "ob=Student()\n",
    "ob.details()\n",
    "ob.stdInfo()\n",
    "    \n"
   ]
  },
  {
   "cell_type": "code",
   "execution_count": null,
   "id": "2e420467-aaa2-44a5-ab77-c018b8c7d553",
   "metadata": {},
   "outputs": [],
   "source": [
    "# Types of Inheritance\n",
    "# 1) Single Inheritance\n",
    "# 2) Multiple Inheritance\n",
    "# 3) Multilevel Inheritance\n",
    "# 4) Hierarchial Inheritance\n",
    "# 5) Hybrid Inheritance\n"
   ]
  },
  {
   "cell_type": "code",
   "execution_count": 33,
   "id": "8e516e96-9bad-4ced-8356-526d86b7a020",
   "metadata": {},
   "outputs": [
    {
     "name": "stdout",
     "output_type": "stream",
     "text": [
      "5\n",
      "-1\n"
     ]
    }
   ],
   "source": [
    "#static method--- methods that belong to class rather than instance of the class,no need to use self keyword\n",
    "class Math:\n",
    "    @staticmethod\n",
    "    def add(a,b):\n",
    "        return a+b\n",
    "\n",
    "    @staticmethod\n",
    "    def sub(a,b):\n",
    "        return a-b\n",
    "        \n",
    "\n",
    "result1=Math.add(2,3)\n",
    "result2=Math.sub(2,3)\n",
    "print(result1)\n",
    "print(result2)"
   ]
  },
  {
   "cell_type": "code",
   "execution_count": 8,
   "id": "4269c3ae-f689-4841-946a-f866de773833",
   "metadata": {},
   "outputs": [
    {
     "name": "stdout",
     "output_type": "stream",
     "text": [
      "Company is: Apple\n",
      "Company is: Tesla\n"
     ]
    }
   ],
   "source": [
    "# class method---defined using \"@classmethod\" decorator\n",
    "class Emp:\n",
    "    company=\"Apple\"\n",
    "    \n",
    "    @classmethod\n",
    "    def changeCompany(cls,newCompany):\n",
    "        cls.company=newCompany\n",
    "\n",
    "    def show(self):\n",
    "        print(\"Company is:\",self.company)\n",
    "\n",
    "    \n",
    "\n",
    "e1=Emp()\n",
    "e1.show()\n",
    "e1.changeCompany(\"Tesla\")\n",
    "e1.show()\n",
    "\n"
   ]
  },
  {
   "cell_type": "code",
   "execution_count": 15,
   "id": "a60c80be-9db5-4671-8d52-afcdeec2b407",
   "metadata": {},
   "outputs": [
    {
     "name": "stdout",
     "output_type": "stream",
     "text": [
      "Name is Mrinal Age is: 22\n",
      "Name is Aditya Age is: 19\n"
     ]
    }
   ],
   "source": [
    "#Instance variable---associated with the instance and unique to each object\n",
    "# instance variables can be access through objects only\n",
    "class Emp:\n",
    "    def __init__(self,name):\n",
    "        self.name=name\n",
    "        self.age=22\n",
    "\n",
    "    def show(self):\n",
    "        print(\"Name is\",self.name,\"Age is:\",self.age)\n",
    "\n",
    "e1=Emp(\"Mrinal\")\n",
    "e1.show()\n",
    "e2=Emp(\"Aditya\")\n",
    "e2.age=19\n",
    "e2.show()"
   ]
  },
  {
   "cell_type": "code",
   "execution_count": 24,
   "id": "2ec5219a-fe6c-4d03-a7f7-cb4431bf5485",
   "metadata": {},
   "outputs": [
    {
     "name": "stdout",
     "output_type": "stream",
     "text": [
      "Name is: Mrinal Company Name is: Apple\n",
      "Name is: Aditya Company Name is: tesla\n",
      "Name is: Ram Company Name is: Apple\n"
     ]
    },
    {
     "data": {
      "text/plain": [
       "'Apple'"
      ]
     },
     "execution_count": 24,
     "metadata": {},
     "output_type": "execute_result"
    }
   ],
   "source": [
    "# class variable----associated to class and not the object same for all objects\n",
    "# if instance variable is present it will show value of instance variable \n",
    "# otherwise it will show the value of class variable\n",
    "# class variables can be access either class or objects\n",
    "class Emp:\n",
    "    companyName=\"Apple\"\n",
    "    def __init__(self,name):\n",
    "        self.name=name\n",
    "        \n",
    "\n",
    "    def show(self):\n",
    "        print(\"Name is:\",self.name,\"Company Name is:\",self.companyName)\n",
    "\n",
    "e1=Emp(\"Mrinal\")\n",
    "e1.show()\n",
    "e2=Emp(\"Aditya\")\n",
    "e2.companyName=\"tesla\"\n",
    "e2.show()\n",
    "e3=Emp(\"Ram\")\n",
    "e3.show()\n",
    "Emp.companyName  # class variable access using class itself\n",
    "e3.companyName  # class variable access using object\n",
    "       \n",
    "    "
   ]
  },
  {
   "cell_type": "code",
   "execution_count": 26,
   "id": "d47ba502-e92e-4add-9a2f-00567b30cfb3",
   "metadata": {},
   "outputs": [
    {
     "name": "stdout",
     "output_type": "stream",
     "text": [
      "['__add__', '__class__', '__class_getitem__', '__contains__', '__delattr__', '__dir__', '__doc__', '__eq__', '__format__', '__ge__', '__getattribute__', '__getitem__', '__getnewargs__', '__getstate__', '__gt__', '__hash__', '__init__', '__init_subclass__', '__iter__', '__le__', '__len__', '__lt__', '__mul__', '__ne__', '__new__', '__reduce__', '__reduce_ex__', '__repr__', '__rmul__', '__setattr__', '__sizeof__', '__str__', '__subclasshook__', 'count', 'index']\n"
     ]
    }
   ],
   "source": [
    "# dir method\n",
    "x=(1,2,3)\n",
    "print(dir(x))"
   ]
  },
  {
   "cell_type": "code",
   "execution_count": 28,
   "id": "7a3ac928-0d32-4184-b378-13cb1a7dc3ac",
   "metadata": {},
   "outputs": [
    {
     "name": "stdout",
     "output_type": "stream",
     "text": [
      "Help on class list in module builtins:\n",
      "\n",
      "class list(object)\n",
      " |  list(iterable=(), /)\n",
      " |  \n",
      " |  Built-in mutable sequence.\n",
      " |  \n",
      " |  If no argument is given, the constructor creates a new empty list.\n",
      " |  The argument must be an iterable if specified.\n",
      " |  \n",
      " |  Methods defined here:\n",
      " |  \n",
      " |  __add__(self, value, /)\n",
      " |      Return self+value.\n",
      " |  \n",
      " |  __contains__(self, key, /)\n",
      " |      Return key in self.\n",
      " |  \n",
      " |  __delitem__(self, key, /)\n",
      " |      Delete self[key].\n",
      " |  \n",
      " |  __eq__(self, value, /)\n",
      " |      Return self==value.\n",
      " |  \n",
      " |  __ge__(self, value, /)\n",
      " |      Return self>=value.\n",
      " |  \n",
      " |  __getattribute__(self, name, /)\n",
      " |      Return getattr(self, name).\n",
      " |  \n",
      " |  __getitem__(...)\n",
      " |      x.__getitem__(y) <==> x[y]\n",
      " |  \n",
      " |  __gt__(self, value, /)\n",
      " |      Return self>value.\n",
      " |  \n",
      " |  __iadd__(self, value, /)\n",
      " |      Implement self+=value.\n",
      " |  \n",
      " |  __imul__(self, value, /)\n",
      " |      Implement self*=value.\n",
      " |  \n",
      " |  __init__(self, /, *args, **kwargs)\n",
      " |      Initialize self.  See help(type(self)) for accurate signature.\n",
      " |  \n",
      " |  __iter__(self, /)\n",
      " |      Implement iter(self).\n",
      " |  \n",
      " |  __le__(self, value, /)\n",
      " |      Return self<=value.\n",
      " |  \n",
      " |  __len__(self, /)\n",
      " |      Return len(self).\n",
      " |  \n",
      " |  __lt__(self, value, /)\n",
      " |      Return self<value.\n",
      " |  \n",
      " |  __mul__(self, value, /)\n",
      " |      Return self*value.\n",
      " |  \n",
      " |  __ne__(self, value, /)\n",
      " |      Return self!=value.\n",
      " |  \n",
      " |  __repr__(self, /)\n",
      " |      Return repr(self).\n",
      " |  \n",
      " |  __reversed__(self, /)\n",
      " |      Return a reverse iterator over the list.\n",
      " |  \n",
      " |  __rmul__(self, value, /)\n",
      " |      Return value*self.\n",
      " |  \n",
      " |  __setitem__(self, key, value, /)\n",
      " |      Set self[key] to value.\n",
      " |  \n",
      " |  __sizeof__(self, /)\n",
      " |      Return the size of the list in memory, in bytes.\n",
      " |  \n",
      " |  append(self, object, /)\n",
      " |      Append object to the end of the list.\n",
      " |  \n",
      " |  clear(self, /)\n",
      " |      Remove all items from list.\n",
      " |  \n",
      " |  copy(self, /)\n",
      " |      Return a shallow copy of the list.\n",
      " |  \n",
      " |  count(self, value, /)\n",
      " |      Return number of occurrences of value.\n",
      " |  \n",
      " |  extend(self, iterable, /)\n",
      " |      Extend list by appending elements from the iterable.\n",
      " |  \n",
      " |  index(self, value, start=0, stop=9223372036854775807, /)\n",
      " |      Return first index of value.\n",
      " |      \n",
      " |      Raises ValueError if the value is not present.\n",
      " |  \n",
      " |  insert(self, index, object, /)\n",
      " |      Insert object before index.\n",
      " |  \n",
      " |  pop(self, index=-1, /)\n",
      " |      Remove and return item at index (default last).\n",
      " |      \n",
      " |      Raises IndexError if list is empty or index is out of range.\n",
      " |  \n",
      " |  remove(self, value, /)\n",
      " |      Remove first occurrence of value.\n",
      " |      \n",
      " |      Raises ValueError if the value is not present.\n",
      " |  \n",
      " |  reverse(self, /)\n",
      " |      Reverse *IN PLACE*.\n",
      " |  \n",
      " |  sort(self, /, *, key=None, reverse=False)\n",
      " |      Sort the list in ascending order and return None.\n",
      " |      \n",
      " |      The sort is in-place (i.e. the list itself is modified) and stable (i.e. the\n",
      " |      order of two equal elements is maintained).\n",
      " |      \n",
      " |      If a key function is given, apply it once to each list item and sort them,\n",
      " |      ascending or descending, according to their function values.\n",
      " |      \n",
      " |      The reverse flag can be set to sort in descending order.\n",
      " |  \n",
      " |  ----------------------------------------------------------------------\n",
      " |  Class methods defined here:\n",
      " |  \n",
      " |  __class_getitem__(...) from builtins.type\n",
      " |      See PEP 585\n",
      " |  \n",
      " |  ----------------------------------------------------------------------\n",
      " |  Static methods defined here:\n",
      " |  \n",
      " |  __new__(*args, **kwargs) from builtins.type\n",
      " |      Create and return a new object.  See help(type) for accurate signature.\n",
      " |  \n",
      " |  ----------------------------------------------------------------------\n",
      " |  Data and other attributes defined here:\n",
      " |  \n",
      " |  __hash__ = None\n",
      "\n"
     ]
    }
   ],
   "source": [
    "#hel method\n",
    "help(list)"
   ]
  },
  {
   "cell_type": "code",
   "execution_count": 36,
   "id": "0228ce7b-c7ae-4da5-a04b-d1d46fe38a6e",
   "metadata": {},
   "outputs": [
    {
     "name": "stdout",
     "output_type": "stream",
     "text": [
      "THis is child method\n",
      "This is parent method\n",
      "This is parent method\n"
     ]
    }
   ],
   "source": [
    "# super() keyword---used to refer to the parent class\n",
    "# super() with methods\n",
    "class Parent:\n",
    "    def parent_method(self):\n",
    "        print(\"This is parent method\")\n",
    "\n",
    "class Child(Parent):\n",
    "    \n",
    "    def child_method(self):\n",
    "        print(\"THis is child method\")\n",
    "        super().parent_method()\n",
    "\n",
    "childObj=Child()\n",
    "childObj.child_method()\n",
    "childObj.parent_method()\n",
    "\n",
    "\n",
    "\n"
   ]
  },
  {
   "cell_type": "code",
   "execution_count": 45,
   "id": "0effb49f-b5c0-43e8-bd5b-52da133227bf",
   "metadata": {},
   "outputs": [
    {
     "name": "stdout",
     "output_type": "stream",
     "text": [
      "Name: Ravi Age: 52\n",
      "Name: Mrinal Age: 22\n",
      "Language: Python\n"
     ]
    }
   ],
   "source": [
    "# super() with constructor\n",
    "class Parent:\n",
    "    def __init__(self,name,age):\n",
    "        self.name=name\n",
    "        self.age=age\n",
    "    def show(self):\n",
    "        print(\"Name:\",self.name,\"Age:\",self.age)    \n",
    "    \n",
    "\n",
    "class Child(Parent):\n",
    "    def __init__(self,name,age,lang):\n",
    "        super().__init__(name,age)\n",
    "        self.lang=lang\n",
    "\n",
    "    def show1(self):\n",
    "        super().show()\n",
    "        print(\"Language:\",self.lang)\n",
    "    \n",
    "Pobj=Parent(\"Ravi\",52)\n",
    "Pobj.show()\n",
    "\n",
    "Cobj=Child(\"Mrinal\",22,\"Python\")\n",
    "Cobj.show1()\n",
    "\n",
    "        "
   ]
  },
  {
   "cell_type": "code",
   "execution_count": 46,
   "id": "6a78f6be-670e-42ac-9ed3-231945ef4107",
   "metadata": {},
   "outputs": [
    {
     "name": "stdout",
     "output_type": "stream",
     "text": [
      "Area of the rectangle: 15\n",
      "Area of the circle: 12.566370614359172\n"
     ]
    }
   ],
   "source": [
    "# method overriding----child method consists of same name and arguments that of parent class\n",
    "import math\n",
    "\n",
    "class Shape:\n",
    "    def area(self):\n",
    "        print(\"Calculating area of a generic shape\")\n",
    "\n",
    "class Rectangle(Shape):\n",
    "    def __init__(self, length, width):\n",
    "        self.length = length\n",
    "        self.width = width\n",
    "\n",
    "    def area(self):\n",
    "        return self.length * self.width\n",
    "\n",
    "class Circle(Shape):\n",
    "    def __init__(self, radius):\n",
    "        self.radius = radius\n",
    "\n",
    "    def area(self):\n",
    "        return math.pi * self.radius**2\n",
    "\n",
    "# Creating instances of the subclasses\n",
    "rectangle_instance = Rectangle(5, 3)\n",
    "circle_instance = Circle(2)\n",
    "\n",
    "# Calling the overridden methods\n",
    "print(\"Area of the rectangle:\", rectangle_instance.area())  # Output: 15\n",
    "print(\"Area of the circle:\", circle_instance.area())        # Output: ~12.57\n"
   ]
  },
  {
   "cell_type": "code",
   "execution_count": 47,
   "id": "cd315a17-7a61-42f9-9cc8-7952cf1ff1e7",
   "metadata": {},
   "outputs": [
    {
     "name": "stdout",
     "output_type": "stream",
     "text": [
      "Result of addition: Point(4, 6)\n"
     ]
    }
   ],
   "source": [
    "# Operator Overloading\n",
    "class Point:\n",
    "    def __init__(self, x, y):\n",
    "        self.x = x\n",
    "        self.y = y\n",
    "\n",
    "    def __add__(self, other):\n",
    "        # Overloading the '+' operator\n",
    "        if isinstance(other, Point):\n",
    "            return Point(self.x + other.x, self.y + other.y)\n",
    "        else:\n",
    "            # If 'other' is not a Point object, raise a TypeError\n",
    "            raise TypeError(\"Unsupported operand type. Must be a Point object.\")\n",
    "\n",
    "    def __str__(self):\n",
    "        # Overloading the 'str' method for a readable representation\n",
    "        return f\"Point({self.x}, {self.y})\"\n",
    "\n",
    "# Creating instances of the Point class\n",
    "point1 = Point(1, 2)\n",
    "point2 = Point(3, 4)\n",
    "\n",
    "# Using the overloaded '+' operator\n",
    "result = point1 + point2\n",
    "print(\"Result of addition:\", result)  # Output: Point(4, 6)\n"
   ]
  },
  {
   "cell_type": "code",
   "execution_count": null,
   "id": "02c5f3a7-c5c8-4768-95c3-4b03d3bfd595",
   "metadata": {},
   "outputs": [],
   "source": []
  }
 ],
 "metadata": {
  "kernelspec": {
   "display_name": "Python 3 (ipykernel)",
   "language": "python",
   "name": "python3"
  },
  "language_info": {
   "codemirror_mode": {
    "name": "ipython",
    "version": 3
   },
   "file_extension": ".py",
   "mimetype": "text/x-python",
   "name": "python",
   "nbconvert_exporter": "python",
   "pygments_lexer": "ipython3",
   "version": "3.11.5"
  }
 },
 "nbformat": 4,
 "nbformat_minor": 5
}
