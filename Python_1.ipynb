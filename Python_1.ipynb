{
 "cells": [
  {
   "cell_type": "code",
   "execution_count": 2,
   "id": "ae0823f3-a34b-4996-9c66-236317c54f05",
   "metadata": {},
   "outputs": [
    {
     "name": "stdout",
     "output_type": "stream",
     "text": [
      "Hello Python!!!\n",
      "14\n"
     ]
    }
   ],
   "source": [
    "print(\"Hello Python!!!\")\n",
    "print(14)"
   ]
  },
  {
   "cell_type": "code",
   "execution_count": 5,
   "id": "c01b844a-79ee-4d68-9835-50f5f68bb159",
   "metadata": {},
   "outputs": [
    {
     "name": "stdout",
     "output_type": "stream",
     "text": [
      "Hii friends\n",
      "How are you\n"
     ]
    }
   ],
   "source": [
    "print(\"Hii friends\\nHow are you\") "
   ]
  },
  {
   "cell_type": "code",
   "execution_count": null,
   "id": "a3a1e5e1-b7be-43ad-acbd-247b48311f65",
   "metadata": {},
   "outputs": [],
   "source": [
    "# Single line comment\n",
    "''' Multiline comment\n",
    "jtiojbon '''"
   ]
  },
  {
   "cell_type": "code",
   "execution_count": 12,
   "id": "cd854900-77ce-4904-b624-b375f90e7333",
   "metadata": {},
   "outputs": [
    {
     "name": "stdout",
     "output_type": "stream",
     "text": [
      "Helooo \"Python\" \n"
     ]
    }
   ],
   "source": [
    "print(\"Helooo \\\"Python\\\" \")"
   ]
  },
  {
   "cell_type": "code",
   "execution_count": 15,
   "id": "38a75956-e78f-4820-919c-6c462071a4f4",
   "metadata": {},
   "outputs": [
    {
     "name": "stdout",
     "output_type": "stream",
     "text": [
      "1*2*3#"
     ]
    }
   ],
   "source": [
    "print(1 ,2, 3,sep=\"*\",end=\"#\")"
   ]
  },
  {
   "cell_type": "code",
   "execution_count": 18,
   "id": "b2fbdd37-7393-4197-9839-1d981435288f",
   "metadata": {},
   "outputs": [
    {
     "name": "stdout",
     "output_type": "stream",
     "text": [
      "<class 'int'>\n",
      "<class 'float'>\n",
      "<class 'str'>\n",
      "<class 'bool'>\n"
     ]
    }
   ],
   "source": [
    "a=10\n",
    "b=10.14\n",
    "c=\"Hello\"\n",
    "d=True\n",
    "print(type(a))\n",
    "print(type(b))\n",
    "print(type(c))\n",
    "print(type(d))\n"
   ]
  },
  {
   "cell_type": "code",
   "execution_count": 22,
   "id": "53bf496a-4818-4678-9fbd-bdbd611e0a80",
   "metadata": {},
   "outputs": [
    {
     "name": "stdout",
     "output_type": "stream",
     "text": [
      "hello\n"
     ]
    },
    {
     "data": {
      "text/plain": [
       "'hiiii firends how are u'"
      ]
     },
     "execution_count": 22,
     "metadata": {},
     "output_type": "execute_result"
    }
   ],
   "source": [
    "a=\"hello\"\n",
    "print(a)\n",
    "'''hiiii firends how are u'''"
   ]
  },
  {
   "cell_type": "code",
   "execution_count": null,
   "id": "ba3ed96e-6c2d-42ec-b0c2-828606fd80fc",
   "metadata": {},
   "outputs": [],
   "source": [
    "# Operators\n",
    "# 1.Arithmetic\n",
    "# 2.Conditional\n",
    "# 3.Assignment\n",
    "# 4.Indentity (is ,is not)\n",
    "# 5.Membership(in , not in)"
   ]
  },
  {
   "cell_type": "code",
   "execution_count": 20,
   "id": "33f49eec-ba41-427c-93bb-26d7a4551e9d",
   "metadata": {},
   "outputs": [
    {
     "name": "stdin",
     "output_type": "stream",
     "text": [
      "Enter input hello\n"
     ]
    },
    {
     "name": "stdout",
     "output_type": "stream",
     "text": [
      "hello\n"
     ]
    },
    {
     "data": {
      "text/plain": [
       "str"
      ]
     },
     "execution_count": 20,
     "metadata": {},
     "output_type": "execute_result"
    }
   ],
   "source": [
    "#user Input \n",
    "a=input(\"Enter input\")\n",
    "print(a)\n",
    "type(a)"
   ]
  },
  {
   "cell_type": "code",
   "execution_count": 2,
   "id": "8d196cfc-913a-4ae0-90f1-08f598e3a492",
   "metadata": {},
   "outputs": [
    {
     "name": "stdout",
     "output_type": "stream",
     "text": [
      "ar\n",
      "rr\n"
     ]
    }
   ],
   "source": [
    "# Slicing ******Strings are immutable*********\n",
    "a=\"harry\"\n",
    "print(a[-4:-2])\n",
    "print(a[-3:-1])"
   ]
  },
  {
   "cell_type": "code",
   "execution_count": 49,
   "id": "7c2e5337-ea05-4633-8e78-52dc20a8518e",
   "metadata": {
    "scrolled": true
   },
   "outputs": [
    {
     "name": "stdout",
     "output_type": "stream",
     "text": [
      "22\n",
      "**MRINAL *** MRINAL!!!\n",
      "**mrinal *** mrinal!!!\n",
      "**Mrinal *** Mrinal!!!\n",
      "**Aditya *** Aditya!!!\n",
      "['**Mrinal', '***', 'Mrinal!!!']\n",
      "I am mrinal\n",
      "11\n",
      "20\n",
      "2\n",
      "2\n",
      "True\n",
      "True\n",
      "10\n",
      "True\n",
      "True\n",
      "True\n",
      "True\n",
      "True\n",
      "False\n",
      "True\n",
      "False\n",
      "False\n",
      "MRINAL\n",
      "Mrinal\n"
     ]
    }
   ],
   "source": [
    "# Sting methods\n",
    "a=\"**Mrinal *** Mrinal!!!\"\n",
    "print(len(a))\n",
    "print(a.upper())\n",
    "print(a.lower())   \n",
    "print(a.rstrip(\"*\"))      # only remove trailing(Ending) characters not leading\n",
    "print(a.replace(\"Mrinal\",\"Aditya\")) # Replaces all occurrences of Mrinal\n",
    "print(a.split(\" \"))\n",
    "b=\"i am Mrinal\"\n",
    "print(b.capitalize())      # capitalize  only first letter\n",
    "print(len(b))\n",
    "print(len(b.center(20)))    # center() use to add spaces\n",
    "print(a.count(\"Mrinal\"))     # count occurrences of string/character\n",
    "print(a.count(\"i\"))\n",
    "print(a.endswith(\"!\"))       # check endswith\n",
    "print(a.endswith(\"al\",2,8))  # check endswith in parts of sentence\n",
    "c=\"Hello how are you  are 43!!\"\n",
    "print(c.find(\"are\"))# returns index of first occurrence of are\n",
    "d=\"hfgfKKK\"\n",
    "e=\"hfhfjd123e4\"\n",
    "print(e.isalnum()) # checks alphabet and numbers are present\n",
    "print(d.isalpha()) # checks only alphabet(small and capital both)\n",
    "print(e.islower()) # checks all leters are lower\n",
    "f=\"HHJKLL\"\n",
    "print(f.isupper())  # checks all letter upper\n",
    "g=\"rgnv ndf b\"\n",
    "print(g.isprintable()) # checks all letter are printable\n",
    "h=\"vrivnnv\\n\"\n",
    "print(h.isprintable()) # \\n is escape character so return false\n",
    "i=\"   \"\n",
    "print(i.isspace())    # checks if space is present or not\n",
    "j=\"Mrinal\"\n",
    "print(j.istitle())    #checks first letter is title(capital) or not\n",
    "print(j.startswith(\"Mr\")) # checks starts with \n",
    "print(j.swapcase())       # convert lower to upper and upper to lower\n",
    "print(j.title())         # covert into title"
   ]
  },
  {
   "cell_type": "code",
   "execution_count": 51,
   "id": "29acb198-3925-47c5-8fb9-d4890793cb29",
   "metadata": {},
   "outputs": [
    {
     "name": "stdin",
     "output_type": "stream",
     "text": [
      "Enter value of x 0\n"
     ]
    },
    {
     "name": "stdout",
     "output_type": "stream",
     "text": [
      "x is zero\n"
     ]
    }
   ],
   "source": [
    "# match case statement(switch case in other languages)\n",
    "x=int(input(\"Enter value of x\"))\n",
    "match x:\n",
    "    case 0:\n",
    "       print(\"x is zero\")\n",
    "    case 14:\n",
    "        print(\"x is 14\")\n",
    "         \n",
    "\n",
    "    "
   ]
  },
  {
   "cell_type": "code",
   "execution_count": 52,
   "id": "35cd6117-3c23-4cd8-846c-a603c1559533",
   "metadata": {},
   "outputs": [
    {
     "name": "stdout",
     "output_type": "stream",
     "text": [
      "M\n",
      "r\n",
      "i\n",
      "n\n",
      "a\n",
      "l\n"
     ]
    }
   ],
   "source": [
    "# for loop\n",
    "a=\"Mrinal\"\n",
    "for i in a:\n",
    "    print(i)"
   ]
  },
  {
   "cell_type": "code",
   "execution_count": 59,
   "id": "07a6a819-d8cc-4c3c-8dc7-9a75cde0391d",
   "metadata": {},
   "outputs": [
    {
     "name": "stdout",
     "output_type": "stream",
     "text": [
      "0\n",
      "2\n",
      "4\n",
      "6\n",
      "8\n",
      "10\n",
      "12\n",
      "14\n"
     ]
    }
   ],
   "source": [
    "for i in range(0,15,2):\n",
    "    print(i)"
   ]
  },
  {
   "cell_type": "code",
   "execution_count": 64,
   "id": "194cd5ef-0d19-49cc-951f-e1e404f3d2d3",
   "metadata": {},
   "outputs": [
    {
     "name": "stdout",
     "output_type": "stream",
     "text": [
      "0\n",
      "2\n",
      "4\n",
      "6\n",
      "8\n",
      "10\n",
      "12\n",
      "14\n"
     ]
    }
   ],
   "source": [
    "# while loop\n",
    "i=0\n",
    "while(i<=14):\n",
    "    print(i)\n",
    "    i+=2"
   ]
  },
  {
   "cell_type": "code",
   "execution_count": 70,
   "id": "d65b41f3-5192-414a-b903-11822e96e55c",
   "metadata": {},
   "outputs": [
    {
     "ename": "SyntaxError",
     "evalue": "invalid syntax (4017100279.py, line 7)",
     "output_type": "error",
     "traceback": [
      "\u001b[1;36m  Cell \u001b[1;32mIn[70], line 7\u001b[1;36m\u001b[0m\n\u001b[1;33m    }while(i<4);\u001b[0m\n\u001b[1;37m     ^\u001b[0m\n\u001b[1;31mSyntaxError\u001b[0m\u001b[1;31m:\u001b[0m invalid syntax\n"
     ]
    }
   ],
   "source": [
    "# do file loop *********************No do while loop in python************\n",
    "i=1\n",
    "do\n",
    "{\n",
    "    print(i)\n",
    "    \n",
    "}while(i<4);"
   ]
  },
  {
   "cell_type": "code",
   "execution_count": 76,
   "id": "742e594f-56e1-4d7a-bc02-4a11236cb46c",
   "metadata": {},
   "outputs": [
    {
     "name": "stdout",
     "output_type": "stream",
     "text": [
      "5 X 0 = 0\n",
      "5 X 1 = 5\n",
      "5 X 2 = 10\n",
      "5 X 3 = 15\n",
      "5 X 4 = 20\n",
      "5 X 5 = 25\n",
      "5 X 6 = 30\n",
      "5 X 7 = 35\n",
      "5 X 8 = 40\n",
      "5 X 9 = 45\n",
      "5 X 10 = 50\n"
     ]
    }
   ],
   "source": [
    "# Break statement\n",
    "for i in range(12):\n",
    "    if(i==11):\n",
    "        break\n",
    "    print(\"5 X\",i,\"=\",5*i)   \n"
   ]
  },
  {
   "cell_type": "code",
   "execution_count": 82,
   "id": "f39d4955-2a7c-4461-9c4f-47a2e1ece831",
   "metadata": {},
   "outputs": [
    {
     "name": "stdout",
     "output_type": "stream",
     "text": [
      "5 X 0 = 0\n",
      "5 X 1 = 5\n",
      "5 X 2 = 10\n",
      "5 X 3 = 15\n",
      "5 X 4 = 20\n",
      "5 X 5 = 25\n",
      "5 X 6 = 30\n",
      "5 X 7 = 35\n",
      "5 X 8 = 40\n",
      "5 X 9 = 45\n",
      "5 X 11 = 55\n"
     ]
    }
   ],
   "source": [
    "# Continue statement\n",
    "for i in range(12):\n",
    "    if(i==10):\n",
    "        continue\n",
    "    print(\"5 X\",i,\"=\",5*i)   "
   ]
  },
  {
   "cell_type": "code",
   "execution_count": 83,
   "id": "44a5fe7b-c09d-42b6-bcd4-ea4386ae456f",
   "metadata": {},
   "outputs": [
    {
     "name": "stdout",
     "output_type": "stream",
     "text": [
      "0\n",
      "1\n",
      "2\n",
      "3\n",
      "4\n",
      "5\n",
      "6\n",
      "7\n",
      "8\n",
      "9\n",
      "10\n",
      "11\n",
      "12\n",
      "13\n"
     ]
    }
   ],
   "source": [
    "# how to emulate do while loop in python\n",
    "# use infinite while loop then add if condition so that it will break the loop\n",
    "i=0\n",
    "while True:\n",
    "    print(i)\n",
    "    i+=1\n",
    "    if(i%14 ==0):\n",
    "        break\n",
    "    \n",
    "    "
   ]
  },
  {
   "cell_type": "code",
   "execution_count": 84,
   "id": "f65b4239-4e61-4a1d-a242-669f1423443d",
   "metadata": {},
   "outputs": [
    {
     "name": "stdin",
     "output_type": "stream",
     "text": [
      "Enter first no. 10\n",
      "Enter second no. 20\n"
     ]
    },
    {
     "name": "stdout",
     "output_type": "stream",
     "text": [
      "20 is greater\n"
     ]
    }
   ],
   "source": [
    "# Function\n",
    "def isGreater(a,b):\n",
    "    if(a>b):\n",
    "        print(a ,\"is greater\")\n",
    "    else:\n",
    "        print(b,\"is greater\")\n",
    "num1=int(input(\"Enter first no.\"))\n",
    "num2=int(input(\"Enter second no.\"))\n",
    "isGreater(num1,num2)\n",
    "    "
   ]
  },
  {
   "cell_type": "code",
   "execution_count": null,
   "id": "e0ef6f1e-7cb8-4468-9f61-adcfb20f35cb",
   "metadata": {},
   "outputs": [],
   "source": [
    "# Function arguments\n",
    "# 1) Default\n",
    "# 2) Keyword\n",
    "# 3) Variable length\n",
    "# 4) Required arguments\n",
    "\n",
    "# ************In function if we take more than one return statement  then always\n",
    "#it will execute first return statement************\n"
   ]
  },
  {
   "cell_type": "code",
   "execution_count": 85,
   "id": "6f84a659-05d6-40a7-8155-47a2793d585a",
   "metadata": {},
   "outputs": [
    {
     "name": "stdout",
     "output_type": "stream",
     "text": [
      "[1, 2, 3, 4, 5]\n"
     ]
    }
   ],
   "source": [
    "# List- ordered collection of elements\n",
    "# List is mutable\n",
    "# list allows to add different data types in single list'\n",
    "# Indexing and slicing is used to access list elements\n",
    "# List comprehension-used for creating new list from other list,tuples,\n",
    "# dictionaries ,sets etc\n",
    "list=[1,2,3,4,5]\n",
    "print(list)"
   ]
  },
  {
   "cell_type": "code",
   "execution_count": 87,
   "id": "a47b50a3-d413-42fd-9c04-484911eff9d9",
   "metadata": {},
   "outputs": [
    {
     "name": "stdout",
     "output_type": "stream",
     "text": [
      "[0, 1, 4, 9, 16, 25, 36, 49, 64, 81]\n",
      "[0, 4, 16, 36, 64]\n"
     ]
    }
   ],
   "source": [
    "# List Comprehension\n",
    "l1=[i*i for i in range(10)]\n",
    "print(l1)\n",
    "l2=[i*i for i in range(10) if i%2==0]\n",
    "print(l2)"
   ]
  },
  {
   "cell_type": "code",
   "execution_count": 100,
   "id": "4df50964-3ad2-4cc1-b56b-c152431a366a",
   "metadata": {},
   "outputs": [
    {
     "name": "stdout",
     "output_type": "stream",
     "text": [
      "[1, 6, 3, 5, 0, 34, 5]\n",
      "[1, 6, 3, 5, 0, 34, 5, 14]\n",
      "[0, 1, 3, 5, 5, 6, 14, 34]\n",
      "[34, 14, 6, 5, 5, 3, 1, 0]\n",
      "1\n",
      "2\n",
      "[34, 1689, 14, 6, 5, 5, 3, 1, 0]\n",
      "[34, 1689, 14, 6, 5, 5, 3, 1, 0, 1, 2, 3, 4]\n",
      "[1, 2, 3, 4, 3, 3, 3, 3]\n"
     ]
    }
   ],
   "source": [
    "# List methods\n",
    "l=[1,6,3,5,0,34,5]\n",
    "print(l)\n",
    "l.append(14)   # add elements at the end\n",
    "print(l)\n",
    "l.sort()       # sort the elements in (asc/desc) by default asc\n",
    "print(l)\n",
    "l.reverse()    # reverse the elements\n",
    "print(l)\n",
    "print(l.index(14))  # gives the index of specific elements\n",
    "print(l.count(5))   #  count the occuurrence of elements\n",
    "l.insert(1,1689)    #  insert the element at specific index \n",
    "print(l)\n",
    "m=[1,2,3,4]\n",
    "k=l+m                # concatenate the list\n",
    "print(k)\n",
    "o=[3,3,3,3]\n",
    "m.extend(o)         # extend the list in another list\n",
    "print(m)\n"
   ]
  },
  {
   "cell_type": "code",
   "execution_count": 101,
   "id": "57b93e06-d964-4522-a316-07dc181f96eb",
   "metadata": {},
   "outputs": [
    {
     "name": "stdout",
     "output_type": "stream",
     "text": [
      "(1, 2, 3, 4, 5)\n"
     ]
    }
   ],
   "source": [
    "# tuple enclosed in round bracket\n",
    "# tuple is immutable\n",
    "# access element using slicing and indexing\n",
    "# we can change tuple by first converting it into list\n",
    "tup=(1,2,3,4,5)\n",
    "print(tup)"
   ]
  },
  {
   "cell_type": "code",
   "execution_count": 105,
   "id": "5da358c1-6bae-4420-a235-cc769c874f38",
   "metadata": {},
   "outputs": [
    {
     "name": "stdout",
     "output_type": "stream",
     "text": [
      "2\n",
      "1\n"
     ]
    }
   ],
   "source": [
    "# tuple methods\n",
    "t=(5,3,4,5,6,8,6,7)\n",
    "a=t.count(5)\n",
    "print(a)\n",
    "b=t.index(3)\n",
    "print(b)"
   ]
  },
  {
   "cell_type": "code",
   "execution_count": null,
   "id": "5193b99e-d6a6-45f4-b19c-050cc51c61bb",
   "metadata": {},
   "outputs": [],
   "source": []
  }
 ],
 "metadata": {
  "kernelspec": {
   "display_name": "Python 3 (ipykernel)",
   "language": "python",
   "name": "python3"
  },
  "language_info": {
   "codemirror_mode": {
    "name": "ipython",
    "version": 3
   },
   "file_extension": ".py",
   "mimetype": "text/x-python",
   "name": "python",
   "nbconvert_exporter": "python",
   "pygments_lexer": "ipython3",
   "version": "3.11.5"
  }
 },
 "nbformat": 4,
 "nbformat_minor": 5
}
