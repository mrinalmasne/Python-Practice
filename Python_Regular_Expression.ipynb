{
 "cells": [
  {
   "cell_type": "code",
   "execution_count": 3,
   "id": "cd098831-7954-4649-9bed-4e4d55624b11",
   "metadata": {},
   "outputs": [
    {
     "name": "stdout",
     "output_type": "stream",
     "text": [
      "['M', 'r', 'i', 'n', 'a', 'l', '1', '4', 'A', 'd', 't', 'i', 'y', 'a']\n"
     ]
    }
   ],
   "source": [
    "# check alphanumeric characters\n",
    "import re\n",
    "s=\"Mrinal14Ad*tiya#\"\n",
    "pattern=re.compile(r'\\w')\n",
    "s1=pattern.findall(s)\n",
    "print(s1)"
   ]
  },
  {
   "cell_type": "code",
   "execution_count": 26,
   "id": "2ca9f0eb-6ec0-43dc-83a2-2f9933f23560",
   "metadata": {},
   "outputs": [
    {
     "name": "stdout",
     "output_type": "stream",
     "text": [
      "found match\n"
     ]
    }
   ],
   "source": [
    "#Write a Python program that matches a string that has an a followed by zero or more b's.\n",
    "s=\"abbb\"\n",
    "pattern=\"(b*)$\"\n",
    "if re.search(pattern,s):\n",
    "     print('found match')\n",
    "else:\n",
    "    print('not found match')"
   ]
  },
  {
   "cell_type": "code",
   "execution_count": 28,
   "id": "59b2f512-241d-4d1d-92b1-f5ec5d33675f",
   "metadata": {},
   "outputs": [
    {
     "name": "stdout",
     "output_type": "stream",
     "text": [
      "match\n"
     ]
    }
   ],
   "source": [
    "#Write a Python program that matches a string that has an a followed by one or more b's.\n",
    "s=\"fjkdbbb\"\n",
    "pattern = '(b+)$'\n",
    "if re.search(pattern,s):\n",
    "    print('match')\n",
    "else:\n",
    "    print('not match')"
   ]
  },
  {
   "cell_type": "code",
   "execution_count": 34,
   "id": "c9986f6c-3e0a-4df8-bdff-0c4a73fb1e7c",
   "metadata": {},
   "outputs": [
    {
     "name": "stdout",
     "output_type": "stream",
     "text": [
      "match\n"
     ]
    }
   ],
   "source": [
    "#Write a Python program that matches a string that has an a followed by zero or one 'b'.\n",
    "s=\"fjkd\"\n",
    "pattern = '(b)?$'\n",
    "if re.search(pattern,s):\n",
    "    print('match')\n",
    "else:\n",
    "    print('not match')"
   ]
  },
  {
   "cell_type": "code",
   "execution_count": 38,
   "id": "e853a31c-aa8b-455c-ae0e-4cdda079d8d7",
   "metadata": {},
   "outputs": [
    {
     "name": "stdout",
     "output_type": "stream",
     "text": [
      "Not match\n"
     ]
    }
   ],
   "source": [
    "#Write a Python program that matches a string that has an a followed by three 'b'.\n",
    "s=\"nvfvvbb\"\n",
    "pattern=\"b{3}\"\n",
    "if re.search(pattern,s):\n",
    "    print(\"match\")\n",
    "else:\n",
    "    print(\"Not match\")"
   ]
  },
  {
   "cell_type": "code",
   "execution_count": 44,
   "id": "b40b1fc7-173d-4ca4-b1ac-e91a8fe3f0b1",
   "metadata": {},
   "outputs": [
    {
     "name": "stdout",
     "output_type": "stream",
     "text": [
      "match\n"
     ]
    }
   ],
   "source": [
    "#Write a Python program that matches a string that has an a followed by two to three 'b'\n",
    "s=\"nvfvvbb\"\n",
    "pattern=\"b{2,3}\"\n",
    "if re.search(pattern,s):\n",
    "    print(\"match\")\n",
    "else:\n",
    "    print(\"Not match\")"
   ]
  },
  {
   "cell_type": "code",
   "execution_count": 50,
   "id": "cc65ca72-f786-498c-8f8a-eda0aaec0b99",
   "metadata": {},
   "outputs": [
    {
     "name": "stdout",
     "output_type": "stream",
     "text": [
      "not match\n",
      "match\n",
      "match\n",
      "not match\n"
     ]
    }
   ],
   "source": [
    "# Write a Python program to find sequences of lowercase letters joined by an underscore.\n",
    "import re\n",
    "def match(text):\n",
    "    pattern='[a-z]+_[a-z]+$'\n",
    "    if re.search(pattern,text):\n",
    "        return(\"match\")\n",
    "    else:\n",
    "        return(\"not match\")\n",
    "\n",
    "\n",
    "print(match(\"bjfvbb\"))\n",
    "print(match(\"bj_vbb\"))\n",
    "print(match(\"bjfvb_b\"))\n",
    "print(match(\"bjfvbb_\"))\n",
    "\n",
    "\n",
    "\n",
    "    \n",
    "\n"
   ]
  },
  {
   "cell_type": "code",
   "execution_count": 51,
   "id": "81fe70e3-26fc-4b25-ac8f-83e6936298b7",
   "metadata": {},
   "outputs": [
    {
     "name": "stdout",
     "output_type": "stream",
     "text": [
      "match\n",
      "not match\n"
     ]
    }
   ],
   "source": [
    "#Write a Python program to find the sequences of one upper case letter followed by lower case letters.\n",
    "import re\n",
    "def match(text):\n",
    "    pattern='[A-Z]+[a-z]+$'\n",
    "    if re.search(pattern,text):\n",
    "        return(\"match\")\n",
    "    else:\n",
    "        return(\"not match\")\n",
    "\n",
    "\n",
    "print(match(\"Bjfvbb\"))\n",
    "print(match(\"bj_vbA\"))\n"
   ]
  },
  {
   "cell_type": "code",
   "execution_count": 58,
   "id": "e3f2d829-a359-49ac-baa4-468cddc7c78e",
   "metadata": {},
   "outputs": [
    {
     "name": "stdout",
     "output_type": "stream",
     "text": [
      "match\n",
      "not match\n"
     ]
    }
   ],
   "source": [
    "#Write a Python program that matches a string that has an 'a' followed by anything ending in 'b'.\n",
    "import re\n",
    "def match(text):\n",
    "    pattern='a.+b+$'\n",
    "    if re.search(pattern,text):\n",
    "        return(\"match\")\n",
    "    else:\n",
    "        return(\"not match\")\n",
    "\n",
    "\n",
    "print(match(\"aaaaajfvbb\"))\n",
    "print(match(\"aj_vbA\"))"
   ]
  },
  {
   "cell_type": "code",
   "execution_count": 62,
   "id": "ffb4ac65-4fc6-49a9-a86b-346706172a30",
   "metadata": {},
   "outputs": [
    {
     "name": "stdout",
     "output_type": "stream",
     "text": [
      "not match\n",
      "match\n"
     ]
    }
   ],
   "source": [
    "# Write a Python program that matches a word at the beginning of a string.\n",
    "import re\n",
    "def match(text):\n",
    "    pattern='^[Hiii]'\n",
    "    if re.search(pattern,text):\n",
    "        return(\"match\")\n",
    "    else:\n",
    "        return(\"not match\")\n",
    "\n",
    "\n",
    "print(match(\"hiiii how are you\"))\n",
    "print(match(\"Hii Mrinal\"))"
   ]
  },
  {
   "cell_type": "code",
   "execution_count": 67,
   "id": "ebb8745f-f951-4ef0-bef7-11ac1c4597c6",
   "metadata": {},
   "outputs": [
    {
     "name": "stdout",
     "output_type": "stream",
     "text": [
      "match\n",
      "match\n"
     ]
    }
   ],
   "source": [
    "# Write a Python program that matches a word at the end of a string, with optional punctuation.\n",
    "import re\n",
    "def match(text):\n",
    "    pattern='you!?$'\n",
    "    if re.search(pattern,text):\n",
    "        return(\"match\")\n",
    "    else:\n",
    "        return(\"not match\")\n",
    "\n",
    "\n",
    "print(match(\"hiiii how are you\"))\n",
    "print(match(\"Hii Mrinal you!\"))"
   ]
  },
  {
   "cell_type": "code",
   "execution_count": 70,
   "id": "c8a4fda6-0719-403d-ab9b-f2b36fbbae76",
   "metadata": {},
   "outputs": [
    {
     "name": "stdout",
     "output_type": "stream",
     "text": [
      "match\n",
      "not match\n"
     ]
    }
   ],
   "source": [
    "#Write a Python program that matches a word containing 'z'.\n",
    "import re\n",
    "def match(text):\n",
    "    pattern='\\w*z.\\w*'\n",
    "    if re.search(pattern,text):\n",
    "        return(\"match\")\n",
    "    else:\n",
    "        return(\"not match\")\n",
    "\n",
    "\n",
    "print(match(\"hiiii hozw are yoZu\"))\n",
    "print(match(\"Hii Mrinal you!\"))"
   ]
  },
  {
   "cell_type": "code",
   "execution_count": 73,
   "id": "3afd8b6e-ea39-405b-b7d2-6b7a2f314ba8",
   "metadata": {},
   "outputs": [
    {
     "name": "stdout",
     "output_type": "stream",
     "text": [
      "match\n",
      "not match\n"
     ]
    }
   ],
   "source": [
    "# Write a Python program that matches a word containing 'z', not the start or end of the word.\n",
    "import re\n",
    "def match(text):\n",
    "    pattern=\"\\Bz\\B\"\n",
    "    if re.search(pattern,text):\n",
    "        return(\"match\")\n",
    "    else:\n",
    "        return(\"not match\")\n",
    "\n",
    "\n",
    "print(match(\"hiiii hozw are yoZu\"))\n",
    "print(match(\"Hii Mrinal you!\"))"
   ]
  },
  {
   "cell_type": "code",
   "execution_count": 78,
   "id": "18413b67-026f-4b2e-bd51-5b341fd0bd48",
   "metadata": {},
   "outputs": [
    {
     "name": "stdout",
     "output_type": "stream",
     "text": [
      "match\n"
     ]
    }
   ],
   "source": [
    "#Write a Python program to match a string that contains only upper and lowercase letters, numbers, and underscores.\n",
    "import re\n",
    "s=\"kfv_kfnB\"\n",
    "pattern=\"[a-zA-Z0-9]\\_\"\n",
    "if re.search(pattern,s):\n",
    "    print(\"match\")\n",
    "else:\n",
    "    print(\"not match\")"
   ]
  },
  {
   "cell_type": "code",
   "execution_count": 90,
   "id": "ead42c50-ff86-475d-bf45-02f57e13dd32",
   "metadata": {},
   "outputs": [
    {
     "name": "stdout",
     "output_type": "stream",
     "text": [
      "Match\n"
     ]
    }
   ],
   "source": [
    "#Write a Python program that starts each string with a specific number#.\n",
    "import re\n",
    "s=\"4478165498\"\n",
    "pattern=\"^4[a-zA-z]?\"\n",
    "if  re.search(pattern,s):\n",
    "    print(\"Match\")\n",
    "else:\n",
    "    print(\"Not match\")\n"
   ]
  },
  {
   "cell_type": "code",
   "execution_count": 104,
   "id": "b7cf8b46-a575-49b4-9d2c-6a3e88ca93c3",
   "metadata": {},
   "outputs": [
    {
     "name": "stdin",
     "output_type": "stream",
     "text": [
      "Enter email: masnemrinal01@gmail.com\n"
     ]
    },
    {
     "name": "stdout",
     "output_type": "stream",
     "text": [
      "Valid Email\n"
     ]
    }
   ],
   "source": [
    "#Email pattern\n",
    "email=input(\"Enter email:\")\n",
    "pattern=\"[a-zA-Z0-9._%+]+@gmail+\\.com$\"\n",
    "if re.search(pattern,email):\n",
    "    print(\"Valid Email\")\n",
    "else:\n",
    "    print(\"Invalid Email\")"
   ]
  },
  {
   "cell_type": "code",
   "execution_count": 107,
   "id": "8f743bf8-d10c-4381-b67c-de4b99af49af",
   "metadata": {},
   "outputs": [
    {
     "name": "stdin",
     "output_type": "stream",
     "text": [
      "Enter url: www.google.com\n"
     ]
    },
    {
     "name": "stdout",
     "output_type": "stream",
     "text": [
      "Valid URL\n"
     ]
    }
   ],
   "source": [
    "# URL pattern\n",
    "import re\n",
    "url=input(\"Enter url:\")\n",
    "pattern=\"(https://)?+(www)?+\\.[a-zA-Z0-9]+\\.[a-z]+$\"\n",
    "if re.search(pattern,url):\n",
    "    print(\"Valid URL\")\n",
    "else:\n",
    "    print(\"Invalid URL\")"
   ]
  },
  {
   "cell_type": "code",
   "execution_count": null,
   "id": "e809f777-fd53-4d22-8e97-ca95691f54e0",
   "metadata": {},
   "outputs": [],
   "source": []
  }
 ],
 "metadata": {
  "kernelspec": {
   "display_name": "Python 3 (ipykernel)",
   "language": "python",
   "name": "python3"
  },
  "language_info": {
   "codemirror_mode": {
    "name": "ipython",
    "version": 3
   },
   "file_extension": ".py",
   "mimetype": "text/x-python",
   "name": "python",
   "nbconvert_exporter": "python",
   "pygments_lexer": "ipython3",
   "version": "3.11.5"
  }
 },
 "nbformat": 4,
 "nbformat_minor": 5
}
