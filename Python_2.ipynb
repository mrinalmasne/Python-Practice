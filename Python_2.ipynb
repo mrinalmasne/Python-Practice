{
 "cells": [
  {
   "cell_type": "code",
   "execution_count": 3,
   "id": "6980d051-e2d9-4737-ba8c-3fbfe5d3ead6",
   "metadata": {},
   "outputs": [
    {
     "name": "stdin",
     "output_type": "stream",
     "text": [
      "Enter no: 4\n"
     ]
    },
    {
     "data": {
      "text/plain": [
       "24"
      ]
     },
     "execution_count": 3,
     "metadata": {},
     "output_type": "execute_result"
    }
   ],
   "source": [
    "#Recursion\n",
    "n=int(input(\"Enter no:\"))\n",
    "def fact(n):\n",
    "    if(n==0 or n==1):\n",
    "        return n\n",
    "    else:\n",
    "        return n*fact(n-1)\n",
    "fact(n)"
   ]
  },
  {
   "cell_type": "code",
   "execution_count": 21,
   "id": "cff2df2d-827f-4742-bc87-d0e909860dce",
   "metadata": {},
   "outputs": [
    {
     "name": "stdin",
     "output_type": "stream",
     "text": [
      "Enter no: 8\n"
     ]
    },
    {
     "name": "stdout",
     "output_type": "stream",
     "text": [
      "0\n",
      "1\n",
      "1\n",
      "2\n",
      "3\n",
      "5\n",
      "8\n",
      "13\n"
     ]
    }
   ],
   "source": [
    "n=int(input(\"Enter no:\"))\n",
    "def fibonacci(n):\n",
    "    if n<=1:\n",
    "        return n\n",
    "    else:\n",
    "        return fibonacci(n-1)+fibonacci(n-2)\n",
    "\n",
    "\n",
    "for i in range(n):\n",
    "    print(fibonacci(i))\n"
   ]
  },
  {
   "cell_type": "code",
   "execution_count": null,
   "id": "ea13cb5d-8888-4a45-8e03-a8997ff4a16e",
   "metadata": {},
   "outputs": [],
   "source": [
    "# set-collection of unique elements,unordered collection of data items\n",
    "# set elements are enclosed in curly brackets,do not contain duplicate elements\n",
    "# set are mutable\n",
    "# no concept of indexing and slicing because ordered is not maintained \n",
    "# we can access set elements using for loop"
   ]
  },
  {
   "cell_type": "code",
   "execution_count": 10,
   "id": "352f3f11-0fcb-47b1-a639-fae65d44efac",
   "metadata": {},
   "outputs": [
    {
     "name": "stdout",
     "output_type": "stream",
     "text": [
      "{1, 2, 3, 5, 6, 7}\n",
      "{1, 2, 5}\n",
      "{6}\n",
      "False\n",
      "False\n"
     ]
    }
   ],
   "source": [
    "# set methods\n",
    "s1={1,2,5,6}\n",
    "s2={3,6,7}\n",
    "print(s1.union(s2))   # takes all elements from both sets\n",
    "print(s1.difference(s2)) #takes different elements from s1 \n",
    "print(s1.intersection(s2)) #takes common elements from both sets\n",
    "print(s1.issuperset(s2))\n",
    "print(s1.issubset(s2))"
   ]
  },
  {
   "cell_type": "code",
   "execution_count": 11,
   "id": "a9f3888a-28a2-4d33-bf16-5f21d2b3debd",
   "metadata": {},
   "outputs": [
    {
     "data": {
      "text/plain": [
       "dict"
      ]
     },
     "execution_count": 11,
     "metadata": {},
     "output_type": "execute_result"
    }
   ],
   "source": [
    "s={}\n",
    "type(s)"
   ]
  },
  {
   "cell_type": "code",
   "execution_count": null,
   "id": "0b1b68da-1835-4c1b-a540-7e48f04d620f",
   "metadata": {},
   "outputs": [],
   "source": [
    "# Dictionary-ordered collection of elements,key value pair,enclosed in curly brackets\n",
    "# dictionary elements can be accessed by key"
   ]
  },
  {
   "cell_type": "code",
   "execution_count": 13,
   "id": "889ce872-28c8-4e91-aef0-567fe686e7c2",
   "metadata": {},
   "outputs": [
    {
     "name": "stdout",
     "output_type": "stream",
     "text": [
      "{'name': 'Mrinal', 'age': 22}\n",
      "dict_keys(['name', 'age'])\n",
      "dict_values(['Mrinal', 22])\n"
     ]
    }
   ],
   "source": [
    "d={'name':'Mrinal','age':22}\n",
    "print(d)\n",
    "print(d.keys())\n",
    "print(d.values())"
   ]
  },
  {
   "cell_type": "code",
   "execution_count": 11,
   "id": "b6501640-aff4-4d66-a889-71293ef6127e",
   "metadata": {},
   "outputs": [
    {
     "name": "stdout",
     "output_type": "stream",
     "text": [
      "{1: 11, 2: 22, 3: 33}\n"
     ]
    }
   ],
   "source": [
    "# dictionary methods\n",
    "dict={1:11,2:22,3:33,4:44}\n",
    "d2={5:55,6:66}\n",
    "#print(dict)\n",
    "#print(d2)\n",
    "#dict.update(d2) # add items from d2 in dict\n",
    "#print(dict)\n",
    "#d2.clear()  # delete the existing dictionary\n",
    "#print(d2)\n",
    "#dict.pop(2)  # delete key value pair according to the key\n",
    "dict.popitem()\n",
    "print(dict)    # delete last key value from dictionary\n",
    "\n",
    "\n"
   ]
  },
  {
   "cell_type": "code",
   "execution_count": 13,
   "id": "36975b02-eab7-488c-a553-3b86f5e7fec2",
   "metadata": {},
   "outputs": [
    {
     "name": "stdout",
     "output_type": "stream",
     "text": [
      "0\n",
      "1\n",
      "2\n",
      "3\n",
      "4\n",
      "No value of i\n"
     ]
    }
   ],
   "source": [
    "# can we use else with loops ????\n",
    "# answer is Yes(after completing all iterations in loop then else block will execute)\n",
    "for i in range(5):\n",
    "    print(i)\n",
    "else:\n",
    "    print(\"No value of i\")"
   ]
  },
  {
   "cell_type": "code",
   "execution_count": 14,
   "id": "b248d4ff-50e6-4dfc-908a-a821f836b16e",
   "metadata": {},
   "outputs": [
    {
     "name": "stdin",
     "output_type": "stream",
     "text": [
      "Enter no: 6.7\n"
     ]
    },
    {
     "name": "stdout",
     "output_type": "stream",
     "text": [
      "Number is not integer\n"
     ]
    }
   ],
   "source": [
    "# Exception handling\n",
    "#Built Exception\n",
    "# we can use multiple except in single try \n",
    "try:\n",
    "    n=int(input(\"Enter no:\"))\n",
    "    print(n)\n",
    "except ValueError:\n",
    "    print(\"Number is not integer\")"
   ]
  },
  {
   "cell_type": "code",
   "execution_count": 26,
   "id": "c3a9d42b-bf3a-423a-b210-9f915f917d15",
   "metadata": {},
   "outputs": [
    {
     "name": "stdin",
     "output_type": "stream",
     "text": [
      "Enter no: mrinal\n"
     ]
    },
    {
     "name": "stdout",
     "output_type": "stream",
     "text": [
      "Invalid number\n"
     ]
    }
   ],
   "source": [
    "# User defined exception\n",
    "try:\n",
    "     a=int(input(\"Enter no:\"))\n",
    "     if a%2==0:\n",
    "          print(\"Even\")\n",
    "     else:\n",
    "          print(\"Odd\")\n",
    "except:\n",
    "    print(\"Invalid number\")"
   ]
  },
  {
   "cell_type": "code",
   "execution_count": 27,
   "id": "68567d12-32fc-4e87-bdf8-ed5afc3c6cd5",
   "metadata": {},
   "outputs": [
    {
     "name": "stdin",
     "output_type": "stream",
     "text": [
      "Enter index: 6\n"
     ]
    },
    {
     "name": "stdout",
     "output_type": "stream",
     "text": [
      "Some error\n",
      "I am always ready to executed\n"
     ]
    },
    {
     "data": {
      "text/plain": [
       "0"
      ]
     },
     "execution_count": 27,
     "metadata": {},
     "output_type": "execute_result"
    }
   ],
   "source": [
    "# finally -exceute if error is present or not\n",
    "# use of finally----if we want to execute some statement irrespective of the error then\n",
    "# we have to use finally\n",
    "# in function even if return statement is executed in try ,except  then also finally will execute\n",
    "def func():\n",
    "    try:\n",
    "        l=[1,2,3,4,5]\n",
    "        i=int(input(\"Enter index:\"))\n",
    "        print(l[i])\n",
    "        return 1\n",
    "    except:\n",
    "        print(\"Some error\")\n",
    "        return 0\n",
    "    finally:\n",
    "        print(\"I am always ready to executed\")\n",
    "func()        \n",
    "\n"
   ]
  },
  {
   "cell_type": "code",
   "execution_count": 28,
   "id": "b76eef7e-86b1-48b3-8be7-aab0d53515e6",
   "metadata": {},
   "outputs": [
    {
     "name": "stdin",
     "output_type": "stream",
     "text": [
      "enter no bet 2-8 10\n"
     ]
    },
    {
     "ename": "ValueError",
     "evalue": "Value should be between given range",
     "output_type": "error",
     "traceback": [
      "\u001b[1;31m---------------------------------------------------------------------------\u001b[0m",
      "\u001b[1;31mValueError\u001b[0m                                Traceback (most recent call last)",
      "Cell \u001b[1;32mIn[28], line 4\u001b[0m\n\u001b[0;32m      2\u001b[0m a\u001b[38;5;241m=\u001b[39m\u001b[38;5;28mint\u001b[39m(\u001b[38;5;28minput\u001b[39m(\u001b[38;5;124m\"\u001b[39m\u001b[38;5;124menter no bet 2-8\u001b[39m\u001b[38;5;124m\"\u001b[39m))\n\u001b[0;32m      3\u001b[0m \u001b[38;5;28;01mif\u001b[39;00m(a\u001b[38;5;241m<\u001b[39m\u001b[38;5;241m2\u001b[39m \u001b[38;5;129;01mor\u001b[39;00m a\u001b[38;5;241m>\u001b[39m\u001b[38;5;241m8\u001b[39m):\n\u001b[1;32m----> 4\u001b[0m     \u001b[38;5;28;01mraise\u001b[39;00m \u001b[38;5;167;01mValueError\u001b[39;00m(\u001b[38;5;124m\"\u001b[39m\u001b[38;5;124mValue should be between given range\u001b[39m\u001b[38;5;124m\"\u001b[39m)\n",
      "\u001b[1;31mValueError\u001b[0m: Value should be between given range"
     ]
    }
   ],
   "source": [
    "# we can raise custom errors by using \"raise\" keyword\n",
    "a=int(input(\"enter no bet 2-8\"))\n",
    "if(a<2 or a>8):\n",
    "    raise ValueError(\"Value should be between given range\")"
   ]
  },
  {
   "cell_type": "code",
   "execution_count": 43,
   "id": "26d5a3f1-4004-449a-a4a7-80a5b362e0aa",
   "metadata": {},
   "outputs": [],
   "source": [
    "# File handling\n",
    "#f=open(\"file.txt\",'r')   # open the file in read mode\n",
    "#print(f)\n",
    "#text=f.read()     # read the content present in the file\n",
    "#print(text)\n",
    "#f.close()\n",
    "#f=open(\"file2.txt\",'w') # open file in write  mode and if not present then create the file automatically\n",
    "#print(f)\n",
    "f=open(\"file2.txt\",'a') #add the content at the end of the file\n",
    "f.write(\"Helooo!!!! How are u???\") # used to write the content in file\n",
    "f.close()\n",
    "\n"
   ]
  },
  {
   "cell_type": "code",
   "execution_count": 47,
   "id": "5b5f7a39-3d03-41b6-9827-734ec39ac7e8",
   "metadata": {},
   "outputs": [],
   "source": [
    "# if we want to open audio ,video ,image then use \"rb\" mode while opening the file\n",
    "# using with statement we can close the file automatically(we need not use the close() function every time\n",
    "#f=open(\"file1.txt\",'a')\n",
    "with open('file1.txt','a') as f:\n",
    "    f.write(\"I am inside with\")"
   ]
  },
  {
   "cell_type": "code",
   "execution_count": 55,
   "id": "62b00693-36ec-447e-a337-fa0f2d458966",
   "metadata": {},
   "outputs": [
    {
     "name": "stdout",
     "output_type": "stream",
     "text": [
      "Helooo Mrinal How re you??????????\n",
      "\n",
      "['I am fine\\n', 'Tell about yourself!!!!!']\n"
     ]
    }
   ],
   "source": [
    "# file methods\n",
    "f=open(\"file.txt\",'r')\n",
    "txt=f.readline() #reads single line in the file\n",
    "print(txt)\n",
    "txt2=f.readlines() # reads more than one lines in the file\n",
    "print(txt2)"
   ]
  },
  {
   "cell_type": "code",
   "execution_count": 58,
   "id": "84b4bfe4-539b-422f-befa-cebcb58e44dc",
   "metadata": {},
   "outputs": [],
   "source": [
    "f=open(\"file.txt\",'w')\n",
    "f.writelines(\"Hiiii Aditya\\n Yor are very smart\")#remove existing content and write new contents  \n",
    "f.close()"
   ]
  },
  {
   "cell_type": "code",
   "execution_count": 66,
   "id": "1121cac7-c4d6-4ad5-a9f2-0a4084948da2",
   "metadata": {},
   "outputs": [
    {
     "name": "stdout",
     "output_type": "stream",
     "text": [
      "i Adi\n"
     ]
    }
   ],
   "source": [
    " # seek function-allows to move current position within file\n",
    "# to a specific point\n",
    "with open('file.txt','r')as f:\n",
    "    f.seek(4)\n",
    "    data=f.read(5)\n",
    "    print(data)"
   ]
  },
  {
   "cell_type": "code",
   "execution_count": 69,
   "id": "cf272b02-b864-4305-a43c-c6dbef11b061",
   "metadata": {},
   "outputs": [
    {
     "name": "stdout",
     "output_type": "stream",
     "text": [
      "10\n"
     ]
    }
   ],
   "source": [
    "# tell function-returns current position within the file\n",
    "with open(\"file.txt\",\"r\") as f:\n",
    "    f.seek(10)\n",
    "    print(f.tell())"
   ]
  },
  {
   "cell_type": "code",
   "execution_count": 77,
   "id": "4d41238c-4362-4a21-b8fd-e5aabbc38b56",
   "metadata": {},
   "outputs": [
    {
     "name": "stdout",
     "output_type": "stream",
     "text": [
      "hello\n"
     ]
    }
   ],
   "source": [
    "# truncate function-allows access to print only specific content\n",
    "with open(\"file.txt\",'w') as f:\n",
    "    f.write(\"hello world\")\n",
    "    f.truncate(5)\n",
    "with open('file.txt','r') as f:\n",
    "    print(f.read())"
   ]
  },
  {
   "cell_type": "code",
   "execution_count": null,
   "id": "70252df8-9ec0-4c89-b696-0e4441da3550",
   "metadata": {},
   "outputs": [],
   "source": []
  }
 ],
 "metadata": {
  "kernelspec": {
   "display_name": "Python 3 (ipykernel)",
   "language": "python",
   "name": "python3"
  },
  "language_info": {
   "codemirror_mode": {
    "name": "ipython",
    "version": 3
   },
   "file_extension": ".py",
   "mimetype": "text/x-python",
   "name": "python",
   "nbconvert_exporter": "python",
   "pygments_lexer": "ipython3",
   "version": "3.11.5"
  }
 },
 "nbformat": 4,
 "nbformat_minor": 5
}
